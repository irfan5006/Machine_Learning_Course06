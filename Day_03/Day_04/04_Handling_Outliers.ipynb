{
 "cells": [
  {
   "cell_type": "markdown",
   "metadata": {},
   "source": [
    "# Day_04 `Handling Outliers Using Different Methods`"
   ]
  },
  {
   "cell_type": "markdown",
   "metadata": {},
   "source": [
    "# Import Libraries "
   ]
  },
  {
   "cell_type": "code",
   "execution_count": 1,
   "metadata": {},
   "outputs": [],
   "source": [
    "import pandas as pd \n",
    "import seaborn as sns\n",
    "import numpy as np\n",
    "import matplotlib.pyplot as plt \n"
   ]
  },
  {
   "cell_type": "code",
   "execution_count": 10,
   "metadata": {},
   "outputs": [
    {
     "data": {
      "text/html": [
       "<div>\n",
       "<style scoped>\n",
       "    .dataframe tbody tr th:only-of-type {\n",
       "        vertical-align: middle;\n",
       "    }\n",
       "\n",
       "    .dataframe tbody tr th {\n",
       "        vertical-align: top;\n",
       "    }\n",
       "\n",
       "    .dataframe thead th {\n",
       "        text-align: right;\n",
       "    }\n",
       "</style>\n",
       "<table border=\"1\" class=\"dataframe\">\n",
       "  <thead>\n",
       "    <tr style=\"text-align: right;\">\n",
       "      <th></th>\n",
       "      <th>Entity</th>\n",
       "      <th>Code</th>\n",
       "      <th>Year</th>\n",
       "      <th>Depressive disorders (share of population) - Sex: Both - Age: Age-standardized</th>\n",
       "      <th>GDP per capita, PPP (constant 2017 international $)</th>\n",
       "      <th>Continent</th>\n",
       "    </tr>\n",
       "  </thead>\n",
       "  <tbody>\n",
       "    <tr>\n",
       "      <th>0</th>\n",
       "      <td>Abkhazia</td>\n",
       "      <td>OWID_ABK</td>\n",
       "      <td>2015</td>\n",
       "      <td>NaN</td>\n",
       "      <td>NaN</td>\n",
       "      <td>Asia</td>\n",
       "    </tr>\n",
       "    <tr>\n",
       "      <th>1</th>\n",
       "      <td>Afghanistan</td>\n",
       "      <td>AFG</td>\n",
       "      <td>1990</td>\n",
       "      <td>4.996118</td>\n",
       "      <td>NaN</td>\n",
       "      <td>NaN</td>\n",
       "    </tr>\n",
       "    <tr>\n",
       "      <th>2</th>\n",
       "      <td>Afghanistan</td>\n",
       "      <td>AFG</td>\n",
       "      <td>1991</td>\n",
       "      <td>4.989290</td>\n",
       "      <td>NaN</td>\n",
       "      <td>NaN</td>\n",
       "    </tr>\n",
       "    <tr>\n",
       "      <th>3</th>\n",
       "      <td>Afghanistan</td>\n",
       "      <td>AFG</td>\n",
       "      <td>1992</td>\n",
       "      <td>4.981346</td>\n",
       "      <td>NaN</td>\n",
       "      <td>NaN</td>\n",
       "    </tr>\n",
       "    <tr>\n",
       "      <th>4</th>\n",
       "      <td>Afghanistan</td>\n",
       "      <td>AFG</td>\n",
       "      <td>1993</td>\n",
       "      <td>4.976958</td>\n",
       "      <td>NaN</td>\n",
       "      <td>NaN</td>\n",
       "    </tr>\n",
       "  </tbody>\n",
       "</table>\n",
       "</div>"
      ],
      "text/plain": [
       "        Entity      Code  Year  \\\n",
       "0     Abkhazia  OWID_ABK  2015   \n",
       "1  Afghanistan       AFG  1990   \n",
       "2  Afghanistan       AFG  1991   \n",
       "3  Afghanistan       AFG  1992   \n",
       "4  Afghanistan       AFG  1993   \n",
       "\n",
       "   Depressive disorders (share of population) - Sex: Both - Age: Age-standardized  \\\n",
       "0                                                NaN                                \n",
       "1                                           4.996118                                \n",
       "2                                           4.989290                                \n",
       "3                                           4.981346                                \n",
       "4                                           4.976958                                \n",
       "\n",
       "   GDP per capita, PPP (constant 2017 international $) Continent  \n",
       "0                                                NaN        Asia  \n",
       "1                                                NaN         NaN  \n",
       "2                                                NaN         NaN  \n",
       "3                                                NaN         NaN  \n",
       "4                                                NaN         NaN  "
      ]
     },
     "execution_count": 10,
     "metadata": {},
     "output_type": "execute_result"
    }
   ],
   "source": [
    "# Load the dataset\n",
    "df = pd.read_csv('E:\\\\Data_Sacience\\\\101-ML_Course\\\\Day_04\\\\depressive-disorders-prevalence-vs-gdp-per-capita.csv')\n",
    "df.head()"
   ]
  },
  {
   "cell_type": "code",
   "execution_count": 12,
   "metadata": {},
   "outputs": [
    {
     "data": {
      "text/plain": [
       "Index(['Entity', 'Code', 'Year',\n",
       "       'Depressive disorders (share of population) - Sex: Both - Age: Age-standardized',\n",
       "       'GDP per capita, PPP (constant 2017 international $)', 'Continent'],\n",
       "      dtype='object')"
      ]
     },
     "execution_count": 12,
     "metadata": {},
     "output_type": "execute_result"
    }
   ],
   "source": [
    "# lets check the coloumn name\n",
    "df.columns"
   ]
  },
  {
   "cell_type": "code",
   "execution_count": 13,
   "metadata": {},
   "outputs": [
    {
     "name": "stdout",
     "output_type": "stream",
     "text": [
      "<class 'pandas.core.frame.DataFrame'>\n",
      "RangeIndex: 7298 entries, 0 to 7297\n",
      "Data columns (total 6 columns):\n",
      " #   Column                                                                          Non-Null Count  Dtype  \n",
      "---  ------                                                                          --------------  -----  \n",
      " 0   Entity                                                                          7298 non-null   object \n",
      " 1   Code                                                                            6762 non-null   object \n",
      " 2   Year                                                                            7298 non-null   int64  \n",
      " 3   Depressive disorders (share of population) - Sex: Both - Age: Age-standardized  6420 non-null   float64\n",
      " 4   GDP per capita, PPP (constant 2017 international $)                             6346 non-null   float64\n",
      " 5   Continent                                                                       285 non-null    object \n",
      "dtypes: float64(2), int64(1), object(3)\n",
      "memory usage: 342.2+ KB\n"
     ]
    }
   ],
   "source": [
    "# check the All Info \n",
    "df.info()"
   ]
  },
  {
   "cell_type": "code",
   "execution_count": 31,
   "metadata": {},
   "outputs": [
    {
     "name": "stdout",
     "output_type": "stream",
     "text": [
      "The Shape Of data is :(7298, 6)\n",
      "---------------------------------------------------------------------------------------------\n",
      "The Null Values Of data is :Entity                                                                               0\n",
      "Code                                                                               536\n",
      "Year                                                                                 0\n",
      "Depressive disorders (share of population) - Sex: Both - Age: Age-standardized     878\n",
      "GDP per capita, PPP (constant 2017 international $)                                952\n",
      "Continent                                                                         7013\n",
      "dtype: int64\n",
      "---------------------------------------------------------------------------------------------\n",
      "The Duplicates values in the data :0\n"
     ]
    }
   ],
   "source": [
    "# check the shape\n",
    "df_shape = df.shape\n",
    "print(f'The Shape Of data is :{df_shape}')\n",
    "print(\"---------------------------------------------------------------------------------------------\")\n",
    "\n",
    "#Check the Null values of the dataset\n",
    "df_null_values = df.isnull().sum()\n",
    "\n",
    "print(f'The Null Values Of data is :{df_null_values}')\n",
    "print(\"---------------------------------------------------------------------------------------------\")\n",
    "\n",
    "# Checking for duplicates\n",
    "df_duplicates = df.duplicated().sum()\n",
    "print(f'The Duplicates values in the data :{df_duplicates}')"
   ]
  },
  {
   "cell_type": "code",
   "execution_count": 46,
   "metadata": {},
   "outputs": [
    {
     "data": {
      "text/plain": [
       "Entity                                                                             0.0\n",
       "Code                                                                               0.0\n",
       "Year                                                                               0.0\n",
       "Depressive disorders (share of population) - Sex: Both - Age: Age-standardized    12.0\n",
       "GDP per capita, PPP (constant 2017 international $)                               13.0\n",
       "Continent                                                                         96.0\n",
       "dtype: float64"
      ]
     },
     "execution_count": 46,
     "metadata": {},
     "output_type": "execute_result"
    }
   ],
   "source": [
    "# Check the percentage of missing values \n",
    "missing_values_percnt = round(df.isnull().mean() * 100)\n",
    "missing_values_percnt"
   ]
  },
  {
   "cell_type": "code",
   "execution_count": 48,
   "metadata": {},
   "outputs": [],
   "source": [
    "# Fill the missing of code column values using mode\n",
    "df['Code'].fillna(df['Code'].mode()[0], inplace=True)\n",
    "\n",
    "# Coloum using Median  fill the deprsion coloumn & GDP coloumn\n",
    "df['GDP per capita, PPP (constant 2017 international $)'].fillna(df['GDP per capita, PPP (constant 2017 international $)'].median(), inplace=True)\n",
    "df['Depressive disorders (share of population) - Sex: Both - Age: Age-standardized'].fillna(df['Depressive disorders (share of population) - Sex: Both - Age: Age-standardized'].median(), inplace=True)\n",
    "\n"
   ]
  },
  {
   "cell_type": "code",
   "execution_count": 49,
   "metadata": {},
   "outputs": [],
   "source": [
    "# Drop the columns Continent becasue its 96 % \n",
    "df.drop('Continent', axis=1, inplace=True)"
   ]
  },
  {
   "cell_type": "code",
   "execution_count": 56,
   "metadata": {},
   "outputs": [
    {
     "name": "stdout",
     "output_type": "stream",
     "text": [
      "Entity                                                                            0\n",
      "Code                                                                              0\n",
      "Year                                                                              0\n",
      "Depressive disorders (share of population) - Sex: Both - Age: Age-standardized    0\n",
      "GDP per capita, PPP (constant 2017 international $)                               0\n",
      "dtype: int64\n",
      "-------------------------------------------------------\n",
      "There is no missing values now its go to move futher.\n"
     ]
    }
   ],
   "source": [
    "# Check again Missing values \n",
    "check_missing_values = df.isnull().sum()\n",
    "print(check_missing_values)\n",
    "\n",
    "print('-------------------------------------------------------')\n",
    "\n",
    "print('There is no missing values now its go to move futher.')"
   ]
  },
  {
   "cell_type": "code",
   "execution_count": 58,
   "metadata": {},
   "outputs": [],
   "source": [
    "# Change the coloumn name depressive to depressive disorder\n",
    "df.rename(columns={'Depressive disorders (share of population) - Sex: Both - Age: Age-standardized': 'Depressive disorder'}, inplace=True)\n",
    "# Also GDP per capita Change \n",
    "df.rename(columns={'GDP per capita, PPP (constant 2017 international $)': 'GDP per capita'}, inplace=True)"
   ]
  },
  {
   "cell_type": "code",
   "execution_count": 59,
   "metadata": {},
   "outputs": [
    {
     "data": {
      "text/plain": [
       "Index(['Entity', 'Code', 'Year', 'Depressive disorder', 'GDP per capita'], dtype='object')"
      ]
     },
     "execution_count": 59,
     "metadata": {},
     "output_type": "execute_result"
    }
   ],
   "source": [
    "# Check The Columns Names\n",
    "df.columns"
   ]
  },
  {
   "cell_type": "code",
   "execution_count": 60,
   "metadata": {},
   "outputs": [
    {
     "data": {
      "image/png": "[encoded data removed]",
      "text/plain": [
       "<Figure size 640x480 with 1 Axes>"
      ]
     },
     "metadata": {},
     "output_type": "display_data"
    },
    {
     "data": {
      "image/png": "[encoded data removed]",
      "text/plain": [
       "<Figure size 640x480 with 1 Axes>"
      ]
     },
     "metadata": {},
     "output_type": "display_data"
    }
   ],
   "source": [
    "# First Check the outliers using visualizatio boxplot\n",
    "# Create a boxplot for the 'Depressive disorder' column\n",
    "plt.boxplot(df['Depressive disorder'])\n",
    "plt.title('Boxplot of Depressive disorder')\n",
    "plt.ylabel('Depressive disorder')\n",
    "plt.show()\n",
    "\n",
    "# Create a boxplot for the 'GDP per capita' column\n",
    "plt.boxplot(df['GDP per capita'])\n",
    "plt.title('Boxplot of GDP per capita')\n",
    "plt.ylabel('GDP per capita')\n",
    "plt.show()"
   ]
  },
  {
   "cell_type": "markdown",
   "metadata": {},
   "source": [
    "# Interpretation \n",
    "We See here the boxplots alot of datashow like outliers first we standardize data then further get results."
   ]
  },
  {
   "cell_type": "code",
   "execution_count": 66,
   "metadata": {},
   "outputs": [
    {
     "name": "stdout",
     "output_type": "stream",
     "text": [
      "Mean:  3.751364202000548\n",
      "Standard Deviation:  0.8688102043697318\n",
      "---------------------------------------------------------------\n"
     ]
    },
    {
     "data": {
      "text/html": [
       "<div>\n",
       "<style scoped>\n",
       "    .dataframe tbody tr th:only-of-type {\n",
       "        vertical-align: middle;\n",
       "    }\n",
       "\n",
       "    .dataframe tbody tr th {\n",
       "        vertical-align: top;\n",
       "    }\n",
       "\n",
       "    .dataframe thead th {\n",
       "        text-align: right;\n",
       "    }\n",
       "</style>\n",
       "<table border=\"1\" class=\"dataframe\">\n",
       "  <thead>\n",
       "    <tr style=\"text-align: right;\">\n",
       "      <th></th>\n",
       "      <th>Entity</th>\n",
       "      <th>Code</th>\n",
       "      <th>Year</th>\n",
       "      <th>Depressive disorder</th>\n",
       "      <th>GDP per capita</th>\n",
       "      <th>Z-Score</th>\n",
       "    </tr>\n",
       "  </thead>\n",
       "  <tbody>\n",
       "    <tr>\n",
       "      <th>0</th>\n",
       "      <td>Abkhazia</td>\n",
       "      <td>OWID_ABK</td>\n",
       "      <td>2015</td>\n",
       "      <td>3.636772</td>\n",
       "      <td>10486.2175</td>\n",
       "      <td>-0.131896</td>\n",
       "    </tr>\n",
       "    <tr>\n",
       "      <th>1</th>\n",
       "      <td>Afghanistan</td>\n",
       "      <td>AFG</td>\n",
       "      <td>1990</td>\n",
       "      <td>4.996118</td>\n",
       "      <td>10486.2175</td>\n",
       "      <td>1.432711</td>\n",
       "    </tr>\n",
       "    <tr>\n",
       "      <th>2</th>\n",
       "      <td>Afghanistan</td>\n",
       "      <td>AFG</td>\n",
       "      <td>1991</td>\n",
       "      <td>4.989290</td>\n",
       "      <td>10486.2175</td>\n",
       "      <td>1.424852</td>\n",
       "    </tr>\n",
       "    <tr>\n",
       "      <th>3</th>\n",
       "      <td>Afghanistan</td>\n",
       "      <td>AFG</td>\n",
       "      <td>1992</td>\n",
       "      <td>4.981346</td>\n",
       "      <td>10486.2175</td>\n",
       "      <td>1.415708</td>\n",
       "    </tr>\n",
       "    <tr>\n",
       "      <th>4</th>\n",
       "      <td>Afghanistan</td>\n",
       "      <td>AFG</td>\n",
       "      <td>1993</td>\n",
       "      <td>4.976958</td>\n",
       "      <td>10486.2175</td>\n",
       "      <td>1.410658</td>\n",
       "    </tr>\n",
       "    <tr>\n",
       "      <th>...</th>\n",
       "      <td>...</td>\n",
       "      <td>...</td>\n",
       "      <td>...</td>\n",
       "      <td>...</td>\n",
       "      <td>...</td>\n",
       "      <td>...</td>\n",
       "    </tr>\n",
       "    <tr>\n",
       "      <th>7293</th>\n",
       "      <td>Zimbabwe</td>\n",
       "      <td>ZWE</td>\n",
       "      <td>2017</td>\n",
       "      <td>3.411965</td>\n",
       "      <td>2331.7808</td>\n",
       "      <td>-0.390648</td>\n",
       "    </tr>\n",
       "    <tr>\n",
       "      <th>7294</th>\n",
       "      <td>Zimbabwe</td>\n",
       "      <td>ZWE</td>\n",
       "      <td>2018</td>\n",
       "      <td>3.406929</td>\n",
       "      <td>2399.6216</td>\n",
       "      <td>-0.396445</td>\n",
       "    </tr>\n",
       "    <tr>\n",
       "      <th>7295</th>\n",
       "      <td>Zimbabwe</td>\n",
       "      <td>ZWE</td>\n",
       "      <td>2019</td>\n",
       "      <td>3.395476</td>\n",
       "      <td>2203.3967</td>\n",
       "      <td>-0.409628</td>\n",
       "    </tr>\n",
       "    <tr>\n",
       "      <th>7296</th>\n",
       "      <td>Zimbabwe</td>\n",
       "      <td>ZWE</td>\n",
       "      <td>2020</td>\n",
       "      <td>3.636772</td>\n",
       "      <td>1990.3195</td>\n",
       "      <td>-0.131896</td>\n",
       "    </tr>\n",
       "    <tr>\n",
       "      <th>7297</th>\n",
       "      <td>Zimbabwe</td>\n",
       "      <td>ZWE</td>\n",
       "      <td>2021</td>\n",
       "      <td>3.636772</td>\n",
       "      <td>2115.1445</td>\n",
       "      <td>-0.131896</td>\n",
       "    </tr>\n",
       "  </tbody>\n",
       "</table>\n",
       "<p>7298 rows × 6 columns</p>\n",
       "</div>"
      ],
      "text/plain": [
       "           Entity      Code  Year  Depressive disorder  GDP per capita  \\\n",
       "0        Abkhazia  OWID_ABK  2015             3.636772      10486.2175   \n",
       "1     Afghanistan       AFG  1990             4.996118      10486.2175   \n",
       "2     Afghanistan       AFG  1991             4.989290      10486.2175   \n",
       "3     Afghanistan       AFG  1992             4.981346      10486.2175   \n",
       "4     Afghanistan       AFG  1993             4.976958      10486.2175   \n",
       "...           ...       ...   ...                  ...             ...   \n",
       "7293     Zimbabwe       ZWE  2017             3.411965       2331.7808   \n",
       "7294     Zimbabwe       ZWE  2018             3.406929       2399.6216   \n",
       "7295     Zimbabwe       ZWE  2019             3.395476       2203.3967   \n",
       "7296     Zimbabwe       ZWE  2020             3.636772       1990.3195   \n",
       "7297     Zimbabwe       ZWE  2021             3.636772       2115.1445   \n",
       "\n",
       "       Z-Score  \n",
       "0    -0.131896  \n",
       "1     1.432711  \n",
       "2     1.424852  \n",
       "3     1.415708  \n",
       "4     1.410658  \n",
       "...        ...  \n",
       "7293 -0.390648  \n",
       "7294 -0.396445  \n",
       "7295 -0.409628  \n",
       "7296 -0.131896  \n",
       "7297 -0.131896  \n",
       "\n",
       "[7298 rows x 6 columns]"
      ]
     },
     "execution_count": 66,
     "metadata": {},
     "output_type": "execute_result"
    }
   ],
   "source": [
    "# We Standardize data using z-score using numpy\n",
    "mean = np.mean(df['Depressive disorder'])\n",
    "std = np.std(df['Depressive disorder'])\n",
    "\n",
    "# Print the results\n",
    "print(\"Mean: \", mean)\n",
    "print(\"Standard Deviation: \", std)\n",
    "print(\"---------------------------------------------------------------\")\n",
    "\n",
    "\n"
   ]
  },
  {
   "cell_type": "code",
   "execution_count": 84,
   "metadata": {},
   "outputs": [
    {
     "data": {
      "text/plain": [
       "0      -0.131896\n",
       "1       1.432711\n",
       "2       1.424852\n",
       "3       1.415708\n",
       "4       1.410658\n",
       "          ...   \n",
       "7293   -0.390648\n",
       "7294   -0.396445\n",
       "7295   -0.409628\n",
       "7296   -0.131896\n",
       "7297   -0.131896\n",
       "Name: Z-Score, Length: 7298, dtype: float64"
      ]
     },
     "execution_count": 84,
     "metadata": {},
     "output_type": "execute_result"
    }
   ],
   "source": [
    "\n",
    "# Calculate the Z-Score\n",
    "df['Z-Score'] = (df['Depressive disorder'] - mean) / std\n",
    "df['Z-Score']"
   ]
  },
  {
   "cell_type": "code",
   "execution_count": 67,
   "metadata": {},
   "outputs": [
    {
     "name": "stdout",
     "output_type": "stream",
     "text": [
      "----------------------------------------\n",
      "Here is the data with outliers:\n",
      "            Entity      Code  Year  Depressive disorder  GDP per capita  \\\n",
      "0        Abkhazia  OWID_ABK  2015             3.636772      10486.2175   \n",
      "1     Afghanistan       AFG  1990             4.996118      10486.2175   \n",
      "2     Afghanistan       AFG  1991             4.989290      10486.2175   \n",
      "3     Afghanistan       AFG  1992             4.981346      10486.2175   \n",
      "4     Afghanistan       AFG  1993             4.976958      10486.2175   \n",
      "...           ...       ...   ...                  ...             ...   \n",
      "7293     Zimbabwe       ZWE  2017             3.411965       2331.7808   \n",
      "7294     Zimbabwe       ZWE  2018             3.406929       2399.6216   \n",
      "7295     Zimbabwe       ZWE  2019             3.395476       2203.3967   \n",
      "7296     Zimbabwe       ZWE  2020             3.636772       1990.3195   \n",
      "7297     Zimbabwe       ZWE  2021             3.636772       2115.1445   \n",
      "\n",
      "       Z-Score  \n",
      "0    -0.131896  \n",
      "1     1.432711  \n",
      "2     1.424852  \n",
      "3     1.415708  \n",
      "4     1.410658  \n",
      "...        ...  \n",
      "7293 -0.390648  \n",
      "7294 -0.396445  \n",
      "7295 -0.409628  \n",
      "7296 -0.131896  \n",
      "7297 -0.131896  \n",
      "\n",
      "[7298 rows x 6 columns]\n",
      "----------------------------------------\n"
     ]
    }
   ],
   "source": [
    "# Step 5: Print the data\n",
    "print(\"----------------------------------------\")\n",
    "print(f\"Here is the data with outliers:\\n {df}\")\n",
    "print(\"----------------------------------------\")\n"
   ]
  },
  {
   "cell_type": "code",
   "execution_count": 70,
   "metadata": {},
   "outputs": [
    {
     "name": "stdout",
     "output_type": "stream",
     "text": [
      "Here are the outliers based on the z-score threshold, 3:\n",
      "          Entity Code  Year  Depressive disorder  GDP per capita   Z-Score\n",
      "2572  Greenland  GRL  1990             6.378720      10486.2175  3.024085\n",
      "2573  Greenland  GRL  1991             6.434176      10486.2175  3.087914\n",
      "2574  Greenland  GRL  1992             6.476890      10486.2175  3.137078\n",
      "2575  Greenland  GRL  1993             6.508613      10486.2175  3.173591\n",
      "2576  Greenland  GRL  1994             6.525027      10486.2175  3.192484\n",
      "...         ...  ...   ...                  ...             ...       ...\n",
      "6807     Uganda  UGA  2015             6.579222       2108.8604  3.254862\n",
      "6808     Uganda  UGA  2016             6.586243       2137.2073  3.262943\n",
      "6809     Uganda  UGA  2017             6.593235       2128.3970  3.270992\n",
      "6810     Uganda  UGA  2018             6.591547       2186.9072  3.269049\n",
      "6811     Uganda  UGA  2019             6.584519       2250.0150  3.260960\n",
      "\n",
      "[63 rows x 6 columns]\n",
      "----------------------------------------\n"
     ]
    }
   ],
   "source": [
    "#  Print the outliers\n",
    "print(f\"Here are the outliers based on the z-score threshold, 3:\\n {df[df['Z-Score'] > 3]}\")\n",
    "print(\"----------------------------------------\")"
   ]
  },
  {
   "cell_type": "code",
   "execution_count": 76,
   "metadata": {},
   "outputs": [
    {
     "name": "stdout",
     "output_type": "stream",
     "text": [
      "Here is the data without outliers:\n",
      "            Entity      Code  Year  Depressive disorder  GDP per capita  \\\n",
      "0        Abkhazia  OWID_ABK  2015             3.636772      10486.2175   \n",
      "1     Afghanistan       AFG  1990             4.996118      10486.2175   \n",
      "2     Afghanistan       AFG  1991             4.989290      10486.2175   \n",
      "3     Afghanistan       AFG  1992             4.981346      10486.2175   \n",
      "4     Afghanistan       AFG  1993             4.976958      10486.2175   \n",
      "...           ...       ...   ...                  ...             ...   \n",
      "7293     Zimbabwe       ZWE  2017             3.411965       2331.7808   \n",
      "7294     Zimbabwe       ZWE  2018             3.406929       2399.6216   \n",
      "7295     Zimbabwe       ZWE  2019             3.395476       2203.3967   \n",
      "7296     Zimbabwe       ZWE  2020             3.636772       1990.3195   \n",
      "7297     Zimbabwe       ZWE  2021             3.636772       2115.1445   \n",
      "\n",
      "       Z-Score  \n",
      "0    -0.131896  \n",
      "1     1.432711  \n",
      "2     1.424852  \n",
      "3     1.415708  \n",
      "4     1.410658  \n",
      "...        ...  \n",
      "7293 -0.390648  \n",
      "7294 -0.396445  \n",
      "7295 -0.409628  \n",
      "7296 -0.131896  \n",
      "7297 -0.131896  \n",
      "\n",
      "[7235 rows x 6 columns]\n"
     ]
    }
   ],
   "source": [
    "#  Remove the outliers\n",
    "data_1 = df[df['Z-Score'] <= 3]\n",
    "\n",
    "# Print the data without outliers\n",
    "print(f\"Here is the data without outliers:\\n {data_1}\")"
   ]
  },
  {
   "cell_type": "code",
   "execution_count": 85,
   "metadata": {},
   "outputs": [
    {
     "name": "stdout",
     "output_type": "stream",
     "text": [
      "           A   B\n",
      "0  54.967142   9\n",
      "1  48.617357  62\n",
      "2  56.476885  37\n",
      "3  65.230299  97\n",
      "4  47.658466  51\n"
     ]
    }
   ],
   "source": [
    "import pandas as pd\n",
    "import numpy as np\n",
    "\n",
    "# Creating a dummy dataset with two columns: 'A' and 'B'\n",
    "np.random.seed(42)  # Setting seed for reproducibility\n",
    "\n",
    "# Generating random values for columns 'A' and 'B'\n",
    "data = {\n",
    "    'A': np.random.normal(loc=50, scale=10, size=100),  # Random normal distribution for 'A'\n",
    "    'B': np.random.randint(1, 100, size=100)  # Random integers between 1 and 100 for 'B'\n",
    "}\n",
    "\n",
    "# Adding outliers to 'A' column\n",
    "data['A'][10] = 120  # Adding an outlier at index 10\n",
    "data['A'][78] = 5    # Adding another outlier at index 78\n",
    "\n",
    "# Creating a DataFrame from the dictionary\n",
    "df = pd.DataFrame(data)\n",
    "\n",
    "# Displaying the first few rows of the dataset\n",
    "print(df.head())\n"
   ]
  },
  {
   "cell_type": "code",
   "execution_count": 86,
   "metadata": {},
   "outputs": [
    {
     "data": {
      "text/plain": [
       "<Axes: >"
      ]
     },
     "execution_count": 86,
     "metadata": {},
     "output_type": "execute_result"
    },
    {
     "data": {
      "image/png": "[encoded data removed]",
      "text/plain": [
       "<Figure size 640x480 with 1 Axes>"
      ]
     },
     "metadata": {},
     "output_type": "display_data"
    }
   ],
   "source": [
    "# Plot Boxplot \n",
    "sns.boxplot(data=data)"
   ]
  },
  {
   "cell_type": "code",
   "execution_count": 89,
   "metadata": {},
   "outputs": [
    {
     "name": "stdout",
     "output_type": "stream",
     "text": [
      "Mean:  49.248700517686764\n",
      "Standard Deviation:  12.296056379043968\n",
      "---------------------------------------------------------------\n"
     ]
    },
    {
     "data": {
      "text/plain": [
       "0     0.465063\n",
       "1    -0.051345\n",
       "2     0.587846\n",
       "3     1.299734\n",
       "4    -0.129329\n",
       "        ...   \n",
       "95   -1.129130\n",
       "96    0.301926\n",
       "97    0.273409\n",
       "98    0.065259\n",
       "99   -0.129682\n",
       "Name: Z-Score, Length: 100, dtype: float64"
      ]
     },
     "execution_count": 89,
     "metadata": {},
     "output_type": "execute_result"
    }
   ],
   "source": [
    "# using Z-score Method to remove outlers \n",
    "# We Standardize data using z-score using numpy\n",
    "mean = np.mean(df['A'])\n",
    "std = np.std(df['A'])\n",
    "\n",
    "# Print the results\n",
    "print(\"Mean: \", mean)\n",
    "print(\"Standard Deviation: \", std)\n",
    "print(\"---------------------------------------------------------------\")\n",
    "\n",
    "df['Z-Score'] = (df['A'] - mean) / std\n",
    "df['Z-Score']"
   ]
  },
  {
   "cell_type": "code",
   "execution_count": 90,
   "metadata": {},
   "outputs": [
    {
     "name": "stdout",
     "output_type": "stream",
     "text": [
      "----------------------------------------\n",
      "Here is the data with outliers:\n",
      "             A   B   Z-Score\n",
      "0   54.967142   9  0.465063\n",
      "1   48.617357  62 -0.051345\n",
      "2   56.476885  37  0.587846\n",
      "3   65.230299  97  1.299734\n",
      "4   47.658466  51 -0.129329\n",
      "..        ...  ..       ...\n",
      "95  35.364851  32 -1.129130\n",
      "96  52.961203   9  0.301926\n",
      "97  52.610553  99  0.273409\n",
      "98  50.051135  19  0.065259\n",
      "99  47.654129  48 -0.129682\n",
      "\n",
      "[100 rows x 3 columns]\n",
      "----------------------------------------\n"
     ]
    }
   ],
   "source": [
    "print(\"----------------------------------------\")\n",
    "print(f\"Here is the data with outliers:\\n {df}\")\n",
    "print(\"----------------------------------------\")\n"
   ]
  },
  {
   "cell_type": "code",
   "execution_count": 91,
   "metadata": {},
   "outputs": [
    {
     "name": "stdout",
     "output_type": "stream",
     "text": [
      "Here are the outliers based on the z-score threshold, 3:\n",
      "         A   B   Z-Score\n",
      "10  120.0  96  5.753983\n",
      "----------------------------------------\n"
     ]
    }
   ],
   "source": [
    "#  Print the outliers\n",
    "print(f\"Here are the outliers based on the z-score threshold, 3:\\n {df[df['Z-Score'] > 3]}\")\n",
    "print(\"----------------------------------------\")"
   ]
  },
  {
   "cell_type": "code",
   "execution_count": 96,
   "metadata": {},
   "outputs": [
    {
     "name": "stdout",
     "output_type": "stream",
     "text": [
      "Here is the data without outliers:\n",
      "             A   B   Z-Score\n",
      "0   54.967142   9  0.465063\n",
      "1   48.617357  62 -0.051345\n",
      "2   56.476885  37  0.587846\n",
      "3   65.230299  97  1.299734\n",
      "4   47.658466  51 -0.129329\n",
      "..        ...  ..       ...\n",
      "95  35.364851  32 -1.129130\n",
      "96  52.961203   9  0.301926\n",
      "97  52.610553  99  0.273409\n",
      "98  50.051135  19  0.065259\n",
      "99  47.654129  48 -0.129682\n",
      "\n",
      "[99 rows x 3 columns]\n"
     ]
    }
   ],
   "source": [
    "#  Remove the outliers\n",
    "data_1 = df[df['Z-Score'] <= 3]\n",
    "\n",
    "# Print the data without outliers\n",
    "print(f\"Here is the data without outliers:\\n {data_1}\")\n",
    "\n"
   ]
  },
  {
   "cell_type": "code",
   "execution_count": 97,
   "metadata": {},
   "outputs": [
    {
     "data": {
      "text/plain": [
       "<Axes: >"
      ]
     },
     "execution_count": 97,
     "metadata": {},
     "output_type": "execute_result"
    },
    {
     "data": {
      "image/png": "[encoded data removed]",
      "text/plain": [
       "<Figure size 640x480 with 1 Axes>"
      ]
     },
     "metadata": {},
     "output_type": "display_data"
    }
   ],
   "source": [
    "# Now Boxplot Show Data without Outliers\n",
    "sns.boxplot(data=data_1)"
   ]
  },
  {
   "cell_type": "code",
   "execution_count": 100,
   "metadata": {},
   "outputs": [
    {
     "data": {
      "image/png": "[encoded data removed]",
      "text/plain": [
       "<Figure size 600x400 with 1 Axes>"
      ]
     },
     "metadata": {},
     "output_type": "display_data"
    }
   ],
   "source": [
    "import matplotlib.pyplot as plt\n",
    "\n",
    "# Creating a boxplot without outliers for column 'A'\n",
    "plt.figure(figsize=(6, 4))\n",
    "plt.boxplot(df['A'].dropna(), showfliers=False)\n",
    "plt.title('Boxplot of column A without outliers')\n",
    "plt.xlabel('Column A')\n",
    "plt.show()"
   ]
  },
  {
   "cell_type": "markdown",
   "metadata": {},
   "source": [
    "# Using Scipy Libaray To Z-Score Method"
   ]
  },
  {
   "cell_type": "code",
   "execution_count": 101,
   "metadata": {},
   "outputs": [
    {
     "name": "stdout",
     "output_type": "stream",
     "text": [
      "----------------------------------------\n",
      "Data: [2.5, 2.7, 2.8, 3.0, 3.2, 3.4, 3.6, 3.8, 4.0, 110.0]\n",
      "----------------------------------------\n",
      "Indices of Outliers: [9]\n",
      "Outliers: [110.0]\n",
      "----------------------------------------\n",
      "Data without outliers: [2.5, 2.7, 2.8, 3.0, 3.2, 3.4, 3.6, 3.8, 4.0]\n"
     ]
    }
   ],
   "source": [
    "# Import libraries\n",
    "import numpy as np\n",
    "from scipy import stats\n",
    "\n",
    "# Sample data\n",
    "data = [2.5, 2.7, 2.8, 3.0, 3.2, 3.4, 3.6, 3.8, 4.0, 110.0]\n",
    "\n",
    "# Calculate the Z-score for each data point\n",
    "z_scores = np.abs(stats.zscore(data))\n",
    "\n",
    "# Set a threshold for identifying outliers\n",
    "threshold = 2.5 \n",
    "outliers = np.where(z_scores > threshold)[0]\n",
    "\n",
    "# print the data\n",
    "print(\"----------------------------------------\")\n",
    "print(\"Data:\", data)\n",
    "print(\"----------------------------------------\")\n",
    "\n",
    "print(\"Indices of Outliers:\", outliers)\n",
    "print(\"Outliers:\", [data[i] for i in outliers])\n",
    "\n",
    "# Remove outliers\n",
    "data = [data[i] for i in range(len(data)) if i not in outliers]\n",
    "print(\"----------------------------------------\")\n",
    "print(\"Data without outliers:\", data)"
   ]
  },
  {
   "cell_type": "code",
   "execution_count": 102,
   "metadata": {},
   "outputs": [
    {
     "data": {
      "text/plain": [
       "<Axes: >"
      ]
     },
     "execution_count": 102,
     "metadata": {},
     "output_type": "execute_result"
    },
    {
     "data": {
      "image/png": "[encoded data removed]",
      "text/plain": [
       "<Figure size 640x480 with 1 Axes>"
      ]
     },
     "metadata": {},
     "output_type": "display_data"
    }
   ],
   "source": [
    "sns.boxplot(data)"
   ]
  },
  {
   "cell_type": "markdown",
   "metadata": {},
   "source": [
    "# `02 IQR Method to Handle Outliers `"
   ]
  },
  {
   "cell_type": "code",
   "execution_count": 104,
   "metadata": {},
   "outputs": [
    {
     "name": "stdout",
     "output_type": "stream",
     "text": [
      "----------------------------------------\n",
      "Here is the data with outliers:\n",
      "     Age\n",
      "0    20\n",
      "1    21\n",
      "2    22\n",
      "3    23\n",
      "4    24\n",
      "5    25\n",
      "6    26\n",
      "7    27\n",
      "8    28\n",
      "9    29\n",
      "10   30\n",
      "11   70\n",
      "12   95\n",
      "----------------------------------------\n",
      "Here are the outliers based on the IQR threshold:\n",
      "     Age\n",
      "11   70\n",
      "12   95\n",
      "----------------------------------------\n",
      "Here is the data without outliers:\n",
      "     Age\n",
      "0    20\n",
      "1    21\n",
      "2    22\n",
      "3    23\n",
      "4    24\n",
      "5    25\n",
      "6    26\n",
      "7    27\n",
      "8    28\n",
      "9    29\n",
      "10   30\n",
      "11   70\n",
      "12   95\n"
     ]
    }
   ],
   "source": [
    "# Step 1: Import the required libraries\n",
    "import pandas as pd\n",
    "import numpy as np\n",
    "\n",
    "# Step 2: Create the data\n",
    "data = pd.DataFrame({'Age': [20, 21, 22, 23, 24, 25, 26, 27, 28, 29, 30, 70,95]})\n",
    "\n",
    "# Step 3: Calculate the first and third quartile\n",
    "Q1 = np.percentile(data['Age'], 25, interpolation = 'midpoint')\n",
    "Q3 = np.percentile(data['Age'], 75, interpolation = 'midpoint')\n",
    "\n",
    "# Step 4: Calculate the IQR\n",
    "IQR = Q3 - Q1\n",
    "\n",
    "# Step 5: Calculate the lower and upper bound\n",
    "lower_bound = Q1 - (1.5 * IQR)\n",
    "upper_bound = Q3 + (1.5 * IQR)\n",
    "\n",
    "# Step 6: Print the data\n",
    "print(\"----------------------------------------\")\n",
    "print(f\"Here is the data with outliers:\\n {data}\")\n",
    "print(\"----------------------------------------\")\n",
    "# Step 7: Print the outliers\n",
    "print(f\"Here are the outliers based on the IQR threshold:\\n {data[(data['Age'] < lower_bound) | (data['Age'] > upper_bound)]}\")\n",
    "print(\"----------------------------------------\")\n",
    "# Step 8: Remove the outliers\n",
    "data_2 = data[(data['Age'] >= lower_bound) & (data['Age'] <= upper_bound)]\n",
    "\n",
    "# Step 9: Print the data without outliers\n",
    "print(f\"Here is the data without outliers:\\n {data}\")"
   ]
  },
  {
   "cell_type": "code",
   "execution_count": 105,
   "metadata": {},
   "outputs": [
    {
     "data": {
      "text/plain": [
       "<Axes: >"
      ]
     },
     "execution_count": 105,
     "metadata": {},
     "output_type": "execute_result"
    },
    {
     "data": {
      "image/png": "[encoded data removed]",
      "text/plain": [
       "<Figure size 640x480 with 1 Axes>"
      ]
     },
     "metadata": {},
     "output_type": "display_data"
    }
   ],
   "source": [
    "sns.boxplot(data_2)"
   ]
  },
  {
   "cell_type": "markdown",
   "metadata": {},
   "source": [
    "# `03 K-mean Clustering Method To Handle Outliers`"
   ]
  },
  {
   "cell_type": "code",
   "execution_count": 108,
   "metadata": {},
   "outputs": [
    {
     "name": "stdout",
     "output_type": "stream",
     "text": [
      "Data: [[2, 2], [3, 3], [3, 4], [30, 30], [31, 31], [32, 32]]\n",
      "Outliers: [[2, 2], [3, 3], [3, 4]]\n",
      "Data without outliers: [[2, 2], [3, 3], [3, 4], [30, 30], [31, 31], [32, 32]]\n"
     ]
    }
   ],
   "source": [
    "# Import library\n",
    "from sklearn.cluster import KMeans\n",
    "\n",
    "# Sample data\n",
    "data = [[2, 2], [3, 3], [3, 4], [30, 30], [31, 31], [32, 32]]\n",
    "\n",
    "# Create a K-means model with two clusters (normal and outlier)\n",
    "kmeans = KMeans(n_clusters=2, n_init=10)\n",
    "kmeans.fit(data)\n",
    "\n",
    "# Predict cluster labels\n",
    "labels = kmeans.predict(data)\n",
    "\n",
    "# Identify outliers based on cluster labels\n",
    "outliers = [data[i] for i, label in enumerate(labels) if label == 1]\n",
    "\n",
    "# print data\n",
    "print(\"Data:\", data)\n",
    "print(\"Outliers:\", outliers)\n",
    "# Remove outliers\n",
    "data_4 = [data[i] for i, label in enumerate(labels) if label == 0]\n",
    "print(\"Data without outliers:\", data)"
   ]
  },
  {
   "cell_type": "code",
   "execution_count": 109,
   "metadata": {},
   "outputs": [
    {
     "data": {
      "text/plain": [
       "<Axes: >"
      ]
     },
     "execution_count": 109,
     "metadata": {},
     "output_type": "execute_result"
    },
    {
     "data": {
      "image/png": "[encoded data removed]",
      "text/plain": [
       "<Figure size 640x480 with 1 Axes>"
      ]
     },
     "metadata": {},
     "output_type": "display_data"
    }
   ],
   "source": [
    "sns.boxplot(data_4)"
   ]
  },
  {
   "cell_type": "code",
   "execution_count": null,
   "metadata": {},
   "outputs": [],
   "source": []
  }
 ],
 "metadata": {
  "kernelspec": {
   "display_name": "python_ml",
   "language": "python",
   "name": "python3"
  },
  "language_info": {
   "codemirror_mode": {
    "name": "ipython",
    "version": 3
   },
   "file_extension": ".py",
   "mimetype": "text/x-python",
   "name": "python",
   "nbconvert_exporter": "python",
   "pygments_lexer": "ipython3",
   "version": "3.11.5"
  }
 },
 "nbformat": 4,
 "nbformat_minor": 2
}
